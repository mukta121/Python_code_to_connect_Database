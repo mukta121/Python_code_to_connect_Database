{
 "cells": [
  {
   "cell_type": "code",
   "execution_count": 1,
   "metadata": {},
   "outputs": [],
   "source": [
    "# Module Imported \n",
    "import numpy as np \n",
    "import pandas as pd\n",
    "import cx_Oracle\n",
    "import matplotlib.pyplot as plt \n",
    "import seaborn as sns\n",
    "import openpyxl"
   ]
  },
  {
   "cell_type": "code",
   "execution_count": 2,
   "metadata": {},
   "outputs": [],
   "source": [
    "%matplotlib inline"
   ]
  },
  {
   "cell_type": "code",
   "execution_count": 3,
   "metadata": {},
   "outputs": [],
   "source": [
    "User=\"Username\"\n",
    "PWD=\"*********\"\n",
    "DB=\"Database_Name\""
   ]
  },
  {
   "cell_type": "code",
   "execution_count": 4,
   "metadata": {},
   "outputs": [],
   "source": [
    "SQL1=['SQL_Statement'] "
   ]
  },
  {
   "cell_type": "code",
   "execution_count": 5,
   "metadata": {},
   "outputs": [
    {
     "name": "stdout",
     "output_type": "stream",
     "text": [
      "select distinct prsn_real_gid,diag_long_desc from ip2976.ret_dx_25 where prsn_real_gid not in (select distinct prsn_real_gid from ip2976.ret_dx_08)\n"
     ]
    }
   ],
   "source": [
    "for x in SQL1:\n",
    "    con=cx_Oracle.connect(User,PWD,DB)\n",
    "    cur=con.cursor()\n",
    "    cur_data=cur.execute(x)\n",
    "    names = [x[0] for x in cur_data.description]\n",
    "    test_pt_y = pd.DataFrame(cur_data.fetchall(), columns = names)\n",
    "    test_pt_y.to_csv(\"..../test_pt_y.csv\", sep='\\t', encoding='utf-8')\n",
    "cur.close()\n",
    "con.close()"
   ]
  },
  {
   "cell_type": "code",
   "execution_count": 37,
   "metadata": {},
   "outputs": [
    {
     "data": {
      "text/plain": [
       "(128452424, 2)"
      ]
     },
     "execution_count": 37,
     "metadata": {},
     "output_type": "execute_result"
    }
   ],
   "source": [
    "test_pt_y.shape"
   ]
  }
 ],
 "metadata": {
  "kernelspec": {
   "display_name": "Python 2",
   "language": "python",
   "name": "python2"
  },
  "language_info": {
   "codemirror_mode": {
    "name": "ipython",
    "version": 2
   },
   "file_extension": ".py",
   "mimetype": "text/x-python",
   "name": "python",
   "nbconvert_exporter": "python",
   "pygments_lexer": "ipython2",
   "version": "2.7.16"
  }
 },
 "nbformat": 4,
 "nbformat_minor": 2
}
